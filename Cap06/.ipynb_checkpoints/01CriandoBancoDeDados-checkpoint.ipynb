{
 "cells": [
  {
   "cell_type": "markdown",
   "id": "6cd7f43a",
   "metadata": {},
   "source": [
    "# Acessando Banco de Dados com Python"
   ]
  },
  {
   "cell_type": "code",
   "execution_count": 1,
   "id": "0976d168",
   "metadata": {},
   "outputs": [],
   "source": [
    "# Remove o arquivo de banco de dados caso exista\n",
    "import os \n",
    "os.remove ('escola.db') if os.path.exists('escola.db') else None"
   ]
  },
  {
   "cell_type": "code",
   "execution_count": 2,
   "id": "7dd5fc58",
   "metadata": {},
   "outputs": [],
   "source": [
    "# Importando o módulo de acesso ao SQLite\n",
    "import sqlite3"
   ]
  },
  {
   "cell_type": "code",
   "execution_count": 3,
   "id": "f67654fc",
   "metadata": {},
   "outputs": [],
   "source": [
    "# Cria uma conexão com o banco de dados\n",
    "# Se o banco de dados não existir, ele é criado neste momento.\n",
    "con = sqlite3.connect('escola.db')"
   ]
  },
  {
   "cell_type": "code",
   "execution_count": 4,
   "id": "e9aae185",
   "metadata": {},
   "outputs": [
    {
     "data": {
      "text/plain": [
       "sqlite3.Connection"
      ]
     },
     "execution_count": 4,
     "metadata": {},
     "output_type": "execute_result"
    }
   ],
   "source": [
    "type(con)"
   ]
  },
  {
   "cell_type": "code",
   "execution_count": 5,
   "id": "bf8c3ecd",
   "metadata": {},
   "outputs": [],
   "source": [
    "# Criando um cursor\n",
    "# Um cursor permite percorrer todos os registros de um conjunto de dados\n",
    "cur = con.cursor()"
   ]
  },
  {
   "cell_type": "code",
   "execution_count": 6,
   "id": "a3f7a116",
   "metadata": {},
   "outputs": [
    {
     "data": {
      "text/plain": [
       "sqlite3.Cursor"
      ]
     },
     "execution_count": 6,
     "metadata": {},
     "output_type": "execute_result"
    }
   ],
   "source": [
    "type (cur)"
   ]
  },
  {
   "cell_type": "code",
   "execution_count": 7,
   "id": "89cb2057",
   "metadata": {},
   "outputs": [],
   "source": [
    "# Cria uma instrução sql\n",
    "sql_create = 'create table cursos'\\\n",
    "'(id integer primary key, '\\\n",
    "'titulo varchar(100), '\\\n",
    "'categoria varchar(140))'"
   ]
  },
  {
   "cell_type": "code",
   "execution_count": 8,
   "id": "3dab33c2",
   "metadata": {},
   "outputs": [
    {
     "data": {
      "text/plain": [
       "<sqlite3.Cursor at 0x177b2f19730>"
      ]
     },
     "execution_count": 8,
     "metadata": {},
     "output_type": "execute_result"
    }
   ],
   "source": [
    "# Executando a instrução sql\n",
    "cur.execute(sql_create)"
   ]
  },
  {
   "cell_type": "code",
   "execution_count": 9,
   "id": "77a65467",
   "metadata": {},
   "outputs": [],
   "source": [
    "# Criando outra sentença SQL para inserir registros\n",
    "sql_insert = 'insert into cursos values (?, ?, ?)'"
   ]
  },
  {
   "cell_type": "code",
   "execution_count": 10,
   "id": "02543e64",
   "metadata": {},
   "outputs": [],
   "source": [
    "# Dados\n",
    "recset =[(1000, 'Ciência de Dados','Data Science'),\n",
    "         (1001, 'Big Data Fundamentos', 'Big Data'),\n",
    "        (1002, 'Python Fundamentos', 'Análise de Dados')]"
   ]
  },
  {
   "cell_type": "code",
   "execution_count": 11,
   "id": "a4d07159",
   "metadata": {},
   "outputs": [],
   "source": [
    "# Inserindo os registros \n",
    "for rec in recset:\n",
    "    cur.execute(sql_insert, rec)"
   ]
  },
  {
   "cell_type": "code",
   "execution_count": 12,
   "id": "adccaa3b",
   "metadata": {},
   "outputs": [],
   "source": [
    "# Grava a transação\n",
    "con.commit()"
   ]
  },
  {
   "cell_type": "code",
   "execution_count": 13,
   "id": "c0c039d5",
   "metadata": {},
   "outputs": [],
   "source": [
    "# Criando outra sentença SQL para selecionar registros\n",
    "sql_select = 'select * from cursos'"
   ]
  },
  {
   "cell_type": "code",
   "execution_count": 14,
   "id": "0b8c1d56",
   "metadata": {},
   "outputs": [],
   "source": [
    "# Selecionando todos os registros e recupera os registros\n",
    "cur.execute(sql_select)\n",
    "dados = cur.fetchall()"
   ]
  },
  {
   "cell_type": "code",
   "execution_count": 15,
   "id": "a52cc1ae",
   "metadata": {},
   "outputs": [
    {
     "name": "stdout",
     "output_type": "stream",
     "text": [
      "Curso Id: 1000, Titulo: Ciência de Dados, Categoria: Data Science \n",
      "\n",
      "Curso Id: 1001, Titulo: Big Data Fundamentos, Categoria: Big Data \n",
      "\n",
      "Curso Id: 1002, Titulo: Python Fundamentos, Categoria: Análise de Dados \n",
      "\n"
     ]
    }
   ],
   "source": [
    "# Mostra\n",
    "for linha in dados:\n",
    "    print ('Curso Id: %d, Titulo: %s, Categoria: %s \\n' % linha)"
   ]
  },
  {
   "cell_type": "code",
   "execution_count": 16,
   "id": "0f0504e9",
   "metadata": {},
   "outputs": [],
   "source": [
    "# Gerando outros registros \n",
    "recset = [(1003, 'Gestão de dados com MongoDB', 'Big Data'),\n",
    "          (1004, 'R Fundamentos', 'Analise de Dados')]\n",
    "\n",
    "# Inserindo os registros\n",
    "for rec in recset:\n",
    "    cur.execute(sql_insert, rec)\n",
    "\n",
    "# Gravando a transação\n",
    "con.commit()"
   ]
  },
  {
   "cell_type": "code",
   "execution_count": 17,
   "id": "282a359b",
   "metadata": {},
   "outputs": [
    {
     "name": "stdout",
     "output_type": "stream",
     "text": [
      "Curso Id: 1000, Título: Ciência de Dados, Categoria: Data Science\n",
      "Curso Id: 1001, Título: Big Data Fundamentos, Categoria: Big Data\n",
      "Curso Id: 1002, Título: Python Fundamentos, Categoria: Análise de Dados\n",
      "Curso Id: 1003, Título: Gestão de dados com MongoDB, Categoria: Big Data\n",
      "Curso Id: 1004, Título: R Fundamentos, Categoria: Analise de Dados\n"
     ]
    }
   ],
   "source": [
    "# Seleciona todos os registros\n",
    "cur.execute('select * from cursos')\n",
    "\n",
    "# Recupera os resultados\n",
    "recset = cur.fetchall()\n",
    "\n",
    "# Mostra \n",
    "for rec in recset:\n",
    "    print('Curso Id: %d, Título: %s, Categoria: %s' % rec)"
   ]
  },
  {
   "cell_type": "code",
   "execution_count": 18,
   "id": "c3d3c33c",
   "metadata": {},
   "outputs": [],
   "source": [
    "# Fecha a conexão\n",
    "con.close()"
   ]
  },
  {
   "cell_type": "code",
   "execution_count": null,
   "id": "2a29ebba",
   "metadata": {},
   "outputs": [],
   "source": []
  }
 ],
 "metadata": {
  "kernelspec": {
   "display_name": "Python 3",
   "language": "python",
   "name": "python3"
  },
  "language_info": {
   "codemirror_mode": {
    "name": "ipython",
    "version": 3
   },
   "file_extension": ".py",
   "mimetype": "text/x-python",
   "name": "python",
   "nbconvert_exporter": "python",
   "pygments_lexer": "ipython3",
   "version": "3.8.8"
  }
 },
 "nbformat": 4,
 "nbformat_minor": 5
}
