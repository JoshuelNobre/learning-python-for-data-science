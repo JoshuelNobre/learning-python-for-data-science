{
 "cells": [
  {
   "cell_type": "code",
   "execution_count": 1,
   "id": "7aeae413",
   "metadata": {},
   "outputs": [],
   "source": [
    "import datetime"
   ]
  },
  {
   "cell_type": "code",
   "execution_count": 2,
   "id": "e93058cb",
   "metadata": {},
   "outputs": [],
   "source": [
    "agora = datetime.datetime.now()"
   ]
  },
  {
   "cell_type": "code",
   "execution_count": 3,
   "id": "c3472b74",
   "metadata": {},
   "outputs": [
    {
     "data": {
      "text/plain": [
       "datetime.datetime(2021, 6, 15, 17, 56, 55, 562597)"
      ]
     },
     "execution_count": 3,
     "metadata": {},
     "output_type": "execute_result"
    }
   ],
   "source": [
    "agora"
   ]
  },
  {
   "cell_type": "code",
   "execution_count": 4,
   "id": "48163796",
   "metadata": {},
   "outputs": [],
   "source": [
    "t = datetime.time(7,4,3)"
   ]
  },
  {
   "cell_type": "code",
   "execution_count": 6,
   "id": "0eed61ec",
   "metadata": {},
   "outputs": [
    {
     "name": "stdout",
     "output_type": "stream",
     "text": [
      "07:04:03\n"
     ]
    }
   ],
   "source": [
    "print(t)"
   ]
  },
  {
   "cell_type": "code",
   "execution_count": 7,
   "id": "5a9093cb",
   "metadata": {},
   "outputs": [
    {
     "name": "stdout",
     "output_type": "stream",
     "text": [
      "Hora : 7\n",
      "Minutos : 4\n",
      "Segundos : 3\n",
      "Microsegundos : 0\n"
     ]
    }
   ],
   "source": [
    "print ('Hora :', t.hour)\n",
    "print ('Minutos :', t.minute)\n",
    "print ('Segundos :', t.second)\n",
    "print ('Microsegundos :', t.microsecond)"
   ]
  },
  {
   "cell_type": "code",
   "execution_count": 9,
   "id": "18f3b0f3",
   "metadata": {},
   "outputs": [
    {
     "name": "stdout",
     "output_type": "stream",
     "text": [
      "00:00:00\n"
     ]
    }
   ],
   "source": [
    "print(datetime.time.min)"
   ]
  },
  {
   "cell_type": "code",
   "execution_count": 11,
   "id": "5e99a1de",
   "metadata": {},
   "outputs": [],
   "source": [
    "hoje = datetime.date.today()"
   ]
  },
  {
   "cell_type": "code",
   "execution_count": 15,
   "id": "14fbfa7a",
   "metadata": {},
   "outputs": [
    {
     "name": "stdout",
     "output_type": "stream",
     "text": [
      "2021-06-15\n",
      "ctime: Tue Jun 15 00:00:00 2021\n",
      "Anos:  2021\n",
      "Mês:  6\n",
      "Dia : 15\n"
     ]
    }
   ],
   "source": [
    "print (hoje)\n",
    "print ('ctime:', hoje.ctime())\n",
    "print ('Anos: ', hoje.year)\n",
    "print ('Mês: ', hoje.month)\n",
    "print ('Dia :', hoje.day)"
   ]
  },
  {
   "cell_type": "code",
   "execution_count": 16,
   "id": "af9ad65f",
   "metadata": {},
   "outputs": [
    {
     "name": "stdout",
     "output_type": "stream",
     "text": [
      "d1:  1999-07-22\n"
     ]
    }
   ],
   "source": [
    "d1 = datetime.date(1999,7,22)\n",
    "print ('d1: ', d1)"
   ]
  },
  {
   "cell_type": "code",
   "execution_count": 17,
   "id": "04e62358",
   "metadata": {},
   "outputs": [
    {
     "name": "stdout",
     "output_type": "stream",
     "text": [
      "d2:  2016-07-22\n"
     ]
    }
   ],
   "source": [
    "d2 = d1.replace(2016)\n",
    "print ('d2: ', d2)"
   ]
  },
  {
   "cell_type": "code",
   "execution_count": 19,
   "id": "a0abc790",
   "metadata": {},
   "outputs": [
    {
     "data": {
      "text/plain": [
       "datetime.timedelta(days=6210)"
      ]
     },
     "execution_count": 19,
     "metadata": {},
     "output_type": "execute_result"
    }
   ],
   "source": [
    "d2 - d1    # Quantos dias tenho de difenreça entra as datas"
   ]
  },
  {
   "cell_type": "code",
   "execution_count": null,
   "id": "cda3ce37",
   "metadata": {},
   "outputs": [],
   "source": []
  }
 ],
 "metadata": {
  "kernelspec": {
   "display_name": "Python 3",
   "language": "python",
   "name": "python3"
  },
  "language_info": {
   "codemirror_mode": {
    "name": "ipython",
    "version": 3
   },
   "file_extension": ".py",
   "mimetype": "text/x-python",
   "name": "python",
   "nbconvert_exporter": "python",
   "pygments_lexer": "ipython3",
   "version": "3.8.8"
  }
 },
 "nbformat": 4,
 "nbformat_minor": 5
}
