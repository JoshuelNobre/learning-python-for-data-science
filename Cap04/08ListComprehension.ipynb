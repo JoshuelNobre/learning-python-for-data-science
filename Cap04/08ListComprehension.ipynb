{
 "cells": [
  {
   "cell_type": "code",
   "execution_count": 1,
   "id": "fdc5f3dc",
   "metadata": {},
   "outputs": [],
   "source": [
    "lst = [x for x in \"Sequência\"]"
   ]
  },
  {
   "cell_type": "code",
   "execution_count": 2,
   "id": "454a1f9f",
   "metadata": {},
   "outputs": [
    {
     "data": {
      "text/plain": [
       "['S', 'e', 'q', 'u', 'ê', 'n', 'c', 'i', 'a']"
      ]
     },
     "execution_count": 2,
     "metadata": {},
     "output_type": "execute_result"
    }
   ],
   "source": [
    "lst"
   ]
  },
  {
   "cell_type": "code",
   "execution_count": 3,
   "id": "22d155bc",
   "metadata": {},
   "outputs": [
    {
     "data": {
      "text/plain": [
       "list"
      ]
     },
     "execution_count": 3,
     "metadata": {},
     "output_type": "execute_result"
    }
   ],
   "source": [
    "type(lst)"
   ]
  },
  {
   "cell_type": "code",
   "execution_count": 4,
   "id": "a1d248b8",
   "metadata": {},
   "outputs": [],
   "source": [
    "lst = [x for x in range(11) if x % 2 == 0]"
   ]
  },
  {
   "cell_type": "code",
   "execution_count": 5,
   "id": "1299202a",
   "metadata": {},
   "outputs": [
    {
     "data": {
      "text/plain": [
       "[0, 2, 4, 6, 8, 10]"
      ]
     },
     "execution_count": 5,
     "metadata": {},
     "output_type": "execute_result"
    }
   ],
   "source": [
    "lst"
   ]
  },
  {
   "cell_type": "code",
   "execution_count": 6,
   "id": "4f78c1c4",
   "metadata": {},
   "outputs": [],
   "source": [
    "# Convertendo Celsius para Fahrenheit\n",
    "celsius = [20,41,100,0,27]\n",
    "fahrenheit = [ (( float(9)/5)*temp +32) for temp in celsius]"
   ]
  },
  {
   "cell_type": "code",
   "execution_count": 7,
   "id": "ec9a3d82",
   "metadata": {},
   "outputs": [
    {
     "data": {
      "text/plain": [
       "[68.0, 105.8, 212.0, 32.0, 80.6]"
      ]
     },
     "execution_count": 7,
     "metadata": {},
     "output_type": "execute_result"
    }
   ],
   "source": [
    "fahrenheit"
   ]
  },
  {
   "cell_type": "code",
   "execution_count": 8,
   "id": "8329a097",
   "metadata": {},
   "outputs": [],
   "source": [
    "# Operações aninhadas\n",
    "lst = [x**2 for x in [x**2 for x in range(12)]]"
   ]
  },
  {
   "cell_type": "code",
   "execution_count": 9,
   "id": "04ad8cb7",
   "metadata": {},
   "outputs": [
    {
     "data": {
      "text/plain": [
       "[0, 1, 16, 81, 256, 625, 1296, 2401, 4096, 6561, 10000, 14641]"
      ]
     },
     "execution_count": 9,
     "metadata": {},
     "output_type": "execute_result"
    }
   ],
   "source": [
    "lst"
   ]
  },
  {
   "cell_type": "code",
   "execution_count": null,
   "id": "be36d7d1",
   "metadata": {},
   "outputs": [],
   "source": []
  }
 ],
 "metadata": {
  "kernelspec": {
   "display_name": "Python 3",
   "language": "python",
   "name": "python3"
  },
  "language_info": {
   "codemirror_mode": {
    "name": "ipython",
    "version": 3
   },
   "file_extension": ".py",
   "mimetype": "text/x-python",
   "name": "python",
   "nbconvert_exporter": "python",
   "pygments_lexer": "ipython3",
   "version": "3.8.8"
  }
 },
 "nbformat": 4,
 "nbformat_minor": 5
}
