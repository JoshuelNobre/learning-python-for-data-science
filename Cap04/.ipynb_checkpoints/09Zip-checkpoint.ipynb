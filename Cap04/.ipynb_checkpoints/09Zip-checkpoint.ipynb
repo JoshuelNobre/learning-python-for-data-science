{
 "cells": [
  {
   "cell_type": "markdown",
   "id": "026d60af",
   "metadata": {},
   "source": [
    "# Zip"
   ]
  },
  {
   "cell_type": "code",
   "execution_count": 1,
   "id": "738615f9",
   "metadata": {},
   "outputs": [],
   "source": [
    "x = [2,4,8,6]\n",
    "y = [1,5,2]"
   ]
  },
  {
   "cell_type": "code",
   "execution_count": 2,
   "id": "feb7c725",
   "metadata": {},
   "outputs": [
    {
     "data": {
      "text/plain": [
       "<zip at 0x24f6f1dbd40>"
      ]
     },
     "execution_count": 2,
     "metadata": {},
     "output_type": "execute_result"
    }
   ],
   "source": [
    "zip(x,y)"
   ]
  },
  {
   "cell_type": "code",
   "execution_count": 3,
   "id": "59d4874d",
   "metadata": {},
   "outputs": [
    {
     "data": {
      "text/plain": [
       "[(2, 1), (4, 5), (8, 2)]"
      ]
     },
     "execution_count": 3,
     "metadata": {},
     "output_type": "execute_result"
    }
   ],
   "source": [
    "list(zip(x,y))"
   ]
  },
  {
   "cell_type": "code",
   "execution_count": 4,
   "id": "076bf2a4",
   "metadata": {},
   "outputs": [
    {
     "data": {
      "text/plain": [
       "[('A', 'y'), ('B', 'z')]"
      ]
     },
     "execution_count": 4,
     "metadata": {},
     "output_type": "execute_result"
    }
   ],
   "source": [
    "list(zip('ABCD',\"yz\"))"
   ]
  },
  {
   "cell_type": "code",
   "execution_count": 6,
   "id": "e115cdc2",
   "metadata": {},
   "outputs": [],
   "source": [
    "# Criando 2 dicionário\n",
    "teclado = {'Redragon': 200, 'Razer': 600}\n",
    "mouse = {'Logitech': 250, 'Goldentec':10}"
   ]
  },
  {
   "cell_type": "code",
   "execution_count": 7,
   "id": "c65e4abb",
   "metadata": {},
   "outputs": [
    {
     "data": {
      "text/plain": [
       "[('Redragon', 'Logitech'), ('Razer', 'Goldentec')]"
      ]
     },
     "execution_count": 7,
     "metadata": {},
     "output_type": "execute_result"
    }
   ],
   "source": [
    "list(zip(teclado,mouse))"
   ]
  },
  {
   "cell_type": "code",
   "execution_count": 8,
   "id": "68cee4b1",
   "metadata": {},
   "outputs": [
    {
     "data": {
      "text/plain": [
       "[('Redragon', 250), ('Razer', 10)]"
      ]
     },
     "execution_count": 8,
     "metadata": {},
     "output_type": "execute_result"
    }
   ],
   "source": [
    "list(zip(teclado,mouse.values()))"
   ]
  },
  {
   "cell_type": "code",
   "execution_count": 11,
   "id": "bcec1da4",
   "metadata": {},
   "outputs": [],
   "source": [
    "def TrocaValores (teclado,mouse):\n",
    "    dicTemp = {}\n",
    "    for tecladokey, mousevalues in zip (teclado, mouse.values()):\n",
    "        dicTemp[tecladokey] = mousevalues\n",
    "    return dicTemp"
   ]
  },
  {
   "cell_type": "code",
   "execution_count": 12,
   "id": "6716779b",
   "metadata": {},
   "outputs": [
    {
     "data": {
      "text/plain": [
       "{'Redragon': 250, 'Razer': 10}"
      ]
     },
     "execution_count": 12,
     "metadata": {},
     "output_type": "execute_result"
    }
   ],
   "source": [
    "TrocaValores(teclado,mouse)"
   ]
  },
  {
   "cell_type": "code",
   "execution_count": null,
   "id": "4036e7e8",
   "metadata": {},
   "outputs": [],
   "source": []
  }
 ],
 "metadata": {
  "kernelspec": {
   "display_name": "Python 3",
   "language": "python",
   "name": "python3"
  },
  "language_info": {
   "codemirror_mode": {
    "name": "ipython",
    "version": 3
   },
   "file_extension": ".py",
   "mimetype": "text/x-python",
   "name": "python",
   "nbconvert_exporter": "python",
   "pygments_lexer": "ipython3",
   "version": "3.8.8"
  }
 },
 "nbformat": 4,
 "nbformat_minor": 5
}
