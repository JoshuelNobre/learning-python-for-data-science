{
 "cells": [
  {
   "cell_type": "markdown",
   "metadata": {},
   "source": [
    "# Exercícios - Loops e Condiconais"
   ]
  },
  {
   "cell_type": "code",
   "execution_count": 3,
   "metadata": {},
   "outputs": [
    {
     "name": "stdout",
     "output_type": "stream",
     "text": [
      "Qual o dia da semana? sábado\n",
      "Hoje é dia de descanso\n"
     ]
    }
   ],
   "source": [
    "# Exercício 1 - Crie uma estrutura que pergunte ao usuário qual o dia da semana. Se o dia for igual a Domingo ou \n",
    "# igual a sábado, imprima na tela \"Hoje é dia de descanso\", caso contrário imprima na tela \"Você precisa trabalhar!\"\n",
    "Dia_da_semana = input('Qual o dia da semana? ').upper()\n",
    "if Dia_da_semana == 'SÁBADO' or Dia_da_semana == 'DOMINGO':\n",
    "    print('Hoje é dia de descanso')\n",
    "else:\n",
    "    print('Você precisa trabalhar!')"
   ]
  },
  {
   "cell_type": "code",
   "execution_count": null,
   "metadata": {},
   "outputs": [],
   "source": [
    "# Exercício 2 - Crie uma lista de 5 frutas e verifique se a fruta 'Morango' faz parte da lista\n",
    "Frutas = ['Banana','Morango','Maçã','Abacate','Laranja']\n",
    "if 'Morango' in Frutas:\n",
    "    print('Faz parte')"
   ]
  },
  {
   "cell_type": "code",
   "execution_count": 4,
   "metadata": {},
   "outputs": [
    {
     "name": "stdout",
     "output_type": "stream",
     "text": [
      "[4, 6, 10, 16]\n"
     ]
    }
   ],
   "source": [
    "# Exercício 3 - Crie uma tupla de 4 elementos, multiplique cada elemento da tupla por 2 e guarde os resultados em uma \n",
    "# lista\n",
    "Tupla=(2,3,5,8)\n",
    "lista=[]\n",
    "for num in Tupla:\n",
    "    lista.append(num*2)\n",
    "print(lista)"
   ]
  },
  {
   "cell_type": "code",
   "execution_count": 11,
   "metadata": {},
   "outputs": [
    {
     "name": "stdout",
     "output_type": "stream",
     "text": [
      "[100, 102, 104, 106, 108, 110, 112, 114, 116, 118, 120, 122, 124, 126, 128, 130, 132, 134, 136, 138, 140, 142, 144, 146, 148]\n"
     ]
    }
   ],
   "source": [
    "# Exercício 4 - Crie uma sequência de números pares entre 100 e 150 e imprima na tela\n",
    "lista_pares=[]\n",
    "for i in range(100,150):\n",
    "    if i % 2 == 0:\n",
    "        lista_pares.append(i)\n",
    "print(lista_pares)\n",
    "        "
   ]
  },
  {
   "cell_type": "code",
   "execution_count": 12,
   "metadata": {},
   "outputs": [
    {
     "name": "stdout",
     "output_type": "stream",
     "text": [
      "40\n",
      "39\n",
      "38\n",
      "37\n",
      "36\n"
     ]
    }
   ],
   "source": [
    "# Exercício 5 - Crie uma variável chamada temperatura e atribua o valor 40. Enquanto temperatura for maior que 35, \n",
    "# imprima as temperaturas na tela\n",
    "temperatura = 40\n",
    "while temperatura > 35:\n",
    "    print(temperatura)\n",
    "    temperatura -= 1"
   ]
  },
  {
   "cell_type": "code",
   "execution_count": 16,
   "metadata": {},
   "outputs": [
    {
     "name": "stdout",
     "output_type": "stream",
     "text": [
      "temperatura =  40\n",
      "Digite a sua temperatura: 39\n",
      "temperatura =  39\n",
      "Digite a sua temperatura: 30\n"
     ]
    }
   ],
   "source": [
    "temperatura = 40\n",
    "while temperatura > 35:\n",
    "    print('temperatura = ',temperatura)\n",
    "    temperatura = int(input('Digite a sua temperatura: '))"
   ]
  },
  {
   "cell_type": "code",
   "execution_count": 4,
   "metadata": {},
   "outputs": [
    {
     "name": "stdout",
     "output_type": "stream",
     "text": [
      "1\n",
      "2\n",
      "3\n",
      "4\n",
      "5\n",
      "6\n",
      "7\n",
      "8\n",
      "9\n",
      "10\n",
      "11\n",
      "12\n",
      "13\n",
      "14\n",
      "15\n",
      "16\n",
      "17\n",
      "18\n",
      "19\n",
      "20\n",
      "21\n",
      "22\n",
      "23\n"
     ]
    }
   ],
   "source": [
    "# Exercício 6 - Crie uma variável chamada contador = 0. Enquanto counter for menor que 100, imprima os valores na tela,\n",
    "# mas quando for encontrado o valor 23, interrompa a execução do programa\n",
    "counter = 0\n",
    "while counter < 100:\n",
    "    if counter ==23:\n",
    "        break\n",
    "    \n",
    "    counter+=1\n",
    "    print(counter)"
   ]
  },
  {
   "cell_type": "code",
   "execution_count": 8,
   "metadata": {},
   "outputs": [
    {
     "name": "stdout",
     "output_type": "stream",
     "text": [
      "[4, 6, 8, 10, 12, 14, 16, 18, 20]\n"
     ]
    }
   ],
   "source": [
    "# Exercício 7 - Crie uma lista vazia e uma variável com valor 4. Enquanto o valor da variável for menor ou igual a 20, \n",
    "# adicione à lista, apenas os valores pares e imprima a lista\n",
    "lista = []\n",
    "var = 4\n",
    "while var <= 20:\n",
    "    if var % 2 == 0: # Divisão por 2 com resto zero\n",
    "        lista.append(var)\n",
    "    var+=1\n",
    "print(lista)"
   ]
  },
  {
   "cell_type": "code",
   "execution_count": 17,
   "metadata": {},
   "outputs": [
    {
     "name": "stdout",
     "output_type": "stream",
     "text": [
      "[5, 7, 9, 11, 13, 15, 17, 19, 21, 23, 25, 27, 29, 31, 33, 35, 37, 39, 41, 43]\n"
     ]
    },
    {
     "data": {
      "text/plain": [
       "list"
      ]
     },
     "execution_count": 17,
     "metadata": {},
     "output_type": "execute_result"
    }
   ],
   "source": [
    "# Exercício 8 - Transforme o resultado desta função range em uma lista: range(5, 45, 2)\n",
    "nums = range(5, 45, 2)\n",
    "lista = []\n",
    "\n",
    "for i in nums:\n",
    "    lista.append(i)\n",
    "print(lista)\n",
    "type(lista)"
   ]
  },
  {
   "cell_type": "code",
   "execution_count": 19,
   "metadata": {},
   "outputs": [
    {
     "name": "stdout",
     "output_type": "stream",
     "text": [
      "Qual a temperatura? 31\n",
      "Vista roupas leves.\n"
     ]
    }
   ],
   "source": [
    "# Exercício 9 - Faça a correção dos erros no código abaixo e execute o programa. Dica: são 3 erros.\n",
    "temperatura = float(input('Qual a temperatura? '))\n",
    "if temperatura > 30:\n",
    "    print('Vista roupas leves.')\n",
    "else:\n",
    "    print('Busque seus casacos.')"
   ]
  },
  {
   "cell_type": "code",
   "execution_count": 25,
   "metadata": {},
   "outputs": [
    {
     "name": "stdout",
     "output_type": "stream",
     "text": [
      "6\n"
     ]
    }
   ],
   "source": [
    "# Exercício 10 - Faça um programa que conte quantas vezes a letra \"r\" aparece na frase abaixo. Use um placeholder na \n",
    "# sua instrução de impressão\n",
    "\n",
    "# “É melhor, muito melhor, contentar-se com a realidade; se ela não é tão brilhante como os sonhos, tem pelo menos a \n",
    "# vantagem de existir.” (Machado de Assis)\n",
    "\n",
    "frase = \"É melhor, muito melhor, contentar-se com a realidade; se ela não é tão brilhante como os sonhos, tem pelo menos a vantagem de existir.\"\n",
    "count = 0\n",
    "for i in frase:\n",
    "    if i == 'r':\n",
    "        count += 1\n",
    "print(count)"
   ]
  },
  {
   "cell_type": "markdown",
   "metadata": {},
   "source": [
    "## Só curiosidade"
   ]
  },
  {
   "cell_type": "code",
   "execution_count": 26,
   "metadata": {},
   "outputs": [
    {
     "name": "stdout",
     "output_type": "stream",
     "text": [
      "O index é 0 e o valor é É\n",
      "O index é 1 e o valor é  \n",
      "O index é 2 e o valor é m\n",
      "O index é 3 e o valor é e\n",
      "O index é 4 e o valor é l\n",
      "O index é 5 e o valor é h\n",
      "O index é 6 e o valor é o\n",
      "O index é 7 e o valor é r\n",
      "O index é 8 e o valor é ,\n",
      "O index é 9 e o valor é  \n",
      "O index é 10 e o valor é m\n",
      "O index é 11 e o valor é u\n",
      "O index é 12 e o valor é i\n",
      "O index é 13 e o valor é t\n",
      "O index é 14 e o valor é o\n",
      "O index é 15 e o valor é  \n",
      "O index é 16 e o valor é m\n",
      "O index é 17 e o valor é e\n",
      "O index é 18 e o valor é l\n",
      "O index é 19 e o valor é h\n",
      "O index é 20 e o valor é o\n",
      "O index é 21 e o valor é r\n",
      "O index é 22 e o valor é ,\n",
      "O index é 23 e o valor é  \n",
      "O index é 24 e o valor é c\n",
      "O index é 25 e o valor é o\n",
      "O index é 26 e o valor é n\n",
      "O index é 27 e o valor é t\n",
      "O index é 28 e o valor é e\n",
      "O index é 29 e o valor é n\n",
      "O index é 30 e o valor é t\n",
      "O index é 31 e o valor é a\n",
      "O index é 32 e o valor é r\n",
      "O index é 33 e o valor é -\n",
      "O index é 34 e o valor é s\n",
      "O index é 35 e o valor é e\n",
      "O index é 36 e o valor é  \n",
      "O index é 37 e o valor é c\n",
      "O index é 38 e o valor é o\n",
      "O index é 39 e o valor é m\n",
      "O index é 40 e o valor é  \n",
      "O index é 41 e o valor é a\n",
      "O index é 42 e o valor é  \n",
      "O index é 43 e o valor é r\n",
      "O index é 44 e o valor é e\n",
      "O index é 45 e o valor é a\n",
      "O index é 46 e o valor é l\n",
      "O index é 47 e o valor é i\n",
      "O index é 48 e o valor é d\n",
      "O index é 49 e o valor é a\n",
      "O index é 50 e o valor é d\n",
      "O index é 51 e o valor é e\n",
      "O index é 52 e o valor é ;\n",
      "O index é 53 e o valor é  \n",
      "O index é 54 e o valor é s\n",
      "O index é 55 e o valor é e\n",
      "O index é 56 e o valor é  \n",
      "O index é 57 e o valor é e\n",
      "O index é 58 e o valor é l\n",
      "O index é 59 e o valor é a\n",
      "O index é 60 e o valor é  \n",
      "O index é 61 e o valor é n\n",
      "O index é 62 e o valor é ã\n",
      "O index é 63 e o valor é o\n",
      "O index é 64 e o valor é  \n",
      "O index é 65 e o valor é é\n",
      "O index é 66 e o valor é  \n",
      "O index é 67 e o valor é t\n",
      "O index é 68 e o valor é ã\n",
      "O index é 69 e o valor é o\n",
      "O index é 70 e o valor é  \n",
      "O index é 71 e o valor é b\n",
      "O index é 72 e o valor é r\n",
      "O index é 73 e o valor é i\n",
      "O index é 74 e o valor é l\n",
      "O index é 75 e o valor é h\n",
      "O index é 76 e o valor é a\n",
      "O index é 77 e o valor é n\n",
      "O index é 78 e o valor é t\n",
      "O index é 79 e o valor é e\n",
      "O index é 80 e o valor é  \n",
      "O index é 81 e o valor é c\n",
      "O index é 82 e o valor é o\n",
      "O index é 83 e o valor é m\n",
      "O index é 84 e o valor é o\n",
      "O index é 85 e o valor é  \n",
      "O index é 86 e o valor é o\n",
      "O index é 87 e o valor é s\n",
      "O index é 88 e o valor é  \n",
      "O index é 89 e o valor é s\n",
      "O index é 90 e o valor é o\n",
      "O index é 91 e o valor é n\n",
      "O index é 92 e o valor é h\n",
      "O index é 93 e o valor é o\n",
      "O index é 94 e o valor é s\n",
      "O index é 95 e o valor é ,\n",
      "O index é 96 e o valor é  \n",
      "O index é 97 e o valor é t\n",
      "O index é 98 e o valor é e\n",
      "O index é 99 e o valor é m\n",
      "O index é 100 e o valor é  \n",
      "O index é 101 e o valor é p\n",
      "O index é 102 e o valor é e\n",
      "O index é 103 e o valor é l\n",
      "O index é 104 e o valor é o\n",
      "O index é 105 e o valor é  \n",
      "O index é 106 e o valor é m\n",
      "O index é 107 e o valor é e\n",
      "O index é 108 e o valor é n\n",
      "O index é 109 e o valor é o\n",
      "O index é 110 e o valor é s\n",
      "O index é 111 e o valor é  \n",
      "O index é 112 e o valor é a\n",
      "O index é 113 e o valor é  \n",
      "O index é 114 e o valor é v\n",
      "O index é 115 e o valor é a\n",
      "O index é 116 e o valor é n\n",
      "O index é 117 e o valor é t\n",
      "O index é 118 e o valor é a\n",
      "O index é 119 e o valor é g\n",
      "O index é 120 e o valor é e\n",
      "O index é 121 e o valor é m\n",
      "O index é 122 e o valor é  \n",
      "O index é 123 e o valor é d\n",
      "O index é 124 e o valor é e\n",
      "O index é 125 e o valor é  \n",
      "O index é 126 e o valor é e\n",
      "O index é 127 e o valor é x\n",
      "O index é 128 e o valor é i\n",
      "O index é 129 e o valor é s\n",
      "O index é 130 e o valor é t\n",
      "O index é 131 e o valor é i\n",
      "O index é 132 e o valor é r\n",
      "O index é 133 e o valor é .\n",
      "0\n"
     ]
    }
   ],
   "source": [
    "frase = \"É melhor, muito melhor, contentar-se com a realidade; se ela não é tão brilhante como os sonhos, tem pelo menos a vantagem de existir.\"\n",
    "count = 0\n",
    "for idx, value in enumerate(frase):\n",
    "    print('O index é {} e o valor é {}'.format(idx,value))\n",
    "print(count)"
   ]
  },
  {
   "cell_type": "code",
   "execution_count": 29,
   "metadata": {},
   "outputs": [
    {
     "data": {
      "text/plain": [
       "4"
      ]
     },
     "execution_count": 29,
     "metadata": {},
     "output_type": "execute_result"
    }
   ],
   "source": [
    "x = 'Meu amigo é um banana'\n",
    "x.count('a')"
   ]
  },
  {
   "cell_type": "code",
   "execution_count": null,
   "metadata": {},
   "outputs": [],
   "source": []
  }
 ],
 "metadata": {
  "kernelspec": {
   "display_name": "Python 3",
   "language": "python",
   "name": "python3"
  },
  "language_info": {
   "codemirror_mode": {
    "name": "ipython",
    "version": 3
   },
   "file_extension": ".py",
   "mimetype": "text/x-python",
   "name": "python",
   "nbconvert_exporter": "python",
   "pygments_lexer": "ipython3",
   "version": "3.8.3"
  }
 },
 "nbformat": 4,
 "nbformat_minor": 4
}
