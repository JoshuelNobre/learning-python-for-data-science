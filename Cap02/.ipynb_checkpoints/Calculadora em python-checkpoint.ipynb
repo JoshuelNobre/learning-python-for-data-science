{
 "cells": [
  {
   "cell_type": "markdown",
   "metadata": {},
   "source": [
    "# Calculadora em python"
   ]
  },
  {
   "cell_type": "code",
   "execution_count": null,
   "metadata": {},
   "outputs": [],
   "source": [
    "print('Shuel Calculator')\n",
    "opc = 0\n",
    "while opc != '5':\n",
    "    print('Selecione a opção que deseja: ')\n",
    "    print('1 - Soma')\n",
    "    print('2 - Subtração')\n",
    "    print('3 - Multiplicação') \n",
    "    print('4 - Divisão')\n",
    "    print('5 - Sair')\n",
    "    opc = input('Digite sua opção: ')\n",
    "    if opc == '1':\n",
    "            n1 = int(input('Digite seu primeiro número: '))\n",
    "            n2 = int(input('Digite seu segundo número: '))\n",
    "            resultado = (n1 + n2)\n",
    "            print(resultado)\n",
    "    elif opc == '2':\n",
    "            n1 = int(input('Digite seu primeiro número: '))\n",
    "            n2 = int(input('Digite seu segundo número: '))\n",
    "            resultado = int(n1 - n2)\n",
    "            print(resultado)\n",
    "    elif opc == '3': \n",
    "            n1 = int(input('Digite seu primeiro número: '))\n",
    "            n2 = int(input('Digite seu segundo número: '))\n",
    "            resultado = int(n1 * n2)\n",
    "            print(resultado)\n",
    "    elif opc == '4':\n",
    "            n1 = int(input('Digite seu primeiro número: '))\n",
    "            n2 = int(input('Digite seu segundo número: '))\n",
    "            resultado = int(n1 / n2)\n",
    "            print(resultado)\n",
    "    elif opc == '5':\n",
    "        print('Saindo do shuel calculator')\n",
    "        break\n",
    "    else:\n",
    "        print('Opção invalida')\n",
    "        "
   ]
  }
 ],
 "metadata": {
  "kernelspec": {
   "display_name": "Python 3",
   "language": "python",
   "name": "python3"
  },
  "language_info": {
   "codemirror_mode": {
    "name": "ipython",
    "version": 3
   },
   "file_extension": ".py",
   "mimetype": "text/x-python",
   "name": "python",
   "nbconvert_exporter": "python",
   "pygments_lexer": "ipython3",
   "version": "3.8.3"
  }
 },
 "nbformat": 4,
 "nbformat_minor": 4
}
