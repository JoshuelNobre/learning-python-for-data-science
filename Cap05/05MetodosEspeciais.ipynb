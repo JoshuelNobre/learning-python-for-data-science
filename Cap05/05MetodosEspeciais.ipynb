{
 "cells": [
  {
   "cell_type": "markdown",
   "id": "11c0a0b4",
   "metadata": {},
   "source": [
    "# Métodos Especiais"
   ]
  },
  {
   "cell_type": "code",
   "execution_count": 1,
   "id": "f7568af2",
   "metadata": {},
   "outputs": [],
   "source": [
    "# Craindo a classe Livro\n",
    "class Livro():\n",
    "    def __init__ (self, titulo, autor, paginas):\n",
    "        print ('Livro criado')\n",
    "        self.titulo = titulo\n",
    "        self.autor = autor\n",
    "        self.paginas = paginas\n",
    "    \n",
    "    def __str__(self):\n",
    "        return 'Titulo: %s , autor: %s páginas: %s' \\\n",
    "    %(self.titulo, self.autor, self.paginas)\n",
    "    \n",
    "    def __len__(self):\n",
    "        return self.paginas\n",
    "    \n",
    "    def len(self):\n",
    "        return print('Páginas do livro com método comun: ', self.paginas)"
   ]
  },
  {
   "cell_type": "code",
   "execution_count": 2,
   "id": "e9751caf",
   "metadata": {},
   "outputs": [
    {
     "name": "stdout",
     "output_type": "stream",
     "text": [
      "Livro criado\n"
     ]
    }
   ],
   "source": [
    "livro1 = Livro('Os Lusíadas', 'Luis de Camões', 8816)"
   ]
  },
  {
   "cell_type": "code",
   "execution_count": 3,
   "id": "5cd4c82c",
   "metadata": {},
   "outputs": [
    {
     "name": "stdout",
     "output_type": "stream",
     "text": [
      "Titulo: Os Lusíadas , autor: Luis de Camões páginas: 8816\n"
     ]
    }
   ],
   "source": [
    "# Métodos especiais\n",
    "print(livro1)"
   ]
  },
  {
   "cell_type": "code",
   "execution_count": 4,
   "id": "00420f44",
   "metadata": {},
   "outputs": [
    {
     "data": {
      "text/plain": [
       "'Titulo: Os Lusíadas , autor: Luis de Camões páginas: 8816'"
      ]
     },
     "execution_count": 4,
     "metadata": {},
     "output_type": "execute_result"
    }
   ],
   "source": [
    "str(livro1)"
   ]
  },
  {
   "cell_type": "code",
   "execution_count": 5,
   "id": "8882cc22",
   "metadata": {},
   "outputs": [
    {
     "data": {
      "text/plain": [
       "8816"
      ]
     },
     "execution_count": 5,
     "metadata": {},
     "output_type": "execute_result"
    }
   ],
   "source": [
    "len(livro1)"
   ]
  },
  {
   "cell_type": "code",
   "execution_count": 8,
   "id": "dac9a5c8",
   "metadata": {},
   "outputs": [
    {
     "name": "stdout",
     "output_type": "stream",
     "text": [
      "Páginas do livro com método comun:  8816\n"
     ]
    }
   ],
   "source": [
    "livro1.len()"
   ]
  },
  {
   "cell_type": "code",
   "execution_count": 9,
   "id": "62735717",
   "metadata": {},
   "outputs": [
    {
     "data": {
      "text/plain": [
       "True"
      ]
     },
     "execution_count": 9,
     "metadata": {},
     "output_type": "execute_result"
    }
   ],
   "source": [
    "hasattr(livro1, 'paginas')"
   ]
  },
  {
   "cell_type": "code",
   "execution_count": null,
   "id": "3991a82c",
   "metadata": {},
   "outputs": [],
   "source": []
  }
 ],
 "metadata": {
  "kernelspec": {
   "display_name": "Python 3",
   "language": "python",
   "name": "python3"
  },
  "language_info": {
   "codemirror_mode": {
    "name": "ipython",
    "version": 3
   },
   "file_extension": ".py",
   "mimetype": "text/x-python",
   "name": "python",
   "nbconvert_exporter": "python",
   "pygments_lexer": "ipython3",
   "version": "3.8.8"
  }
 },
 "nbformat": 4,
 "nbformat_minor": 5
}
