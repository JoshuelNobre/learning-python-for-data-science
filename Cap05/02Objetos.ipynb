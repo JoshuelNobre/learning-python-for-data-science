{
 "cells": [
  {
   "cell_type": "markdown",
   "id": "65403d3f",
   "metadata": {},
   "source": [
    "# Objetos"
   ]
  },
  {
   "cell_type": "markdown",
   "id": "ae6d5589",
   "metadata": {},
   "source": [
    "Em python, tudo é objeto !"
   ]
  },
  {
   "cell_type": "code",
   "execution_count": 3,
   "id": "8a00eae7",
   "metadata": {},
   "outputs": [],
   "source": [
    "# Craindo uma lista\n",
    "lst_num = ['Data', 'Science', 'Acadamy', 'Nota', 10, 10]"
   ]
  },
  {
   "cell_type": "code",
   "execution_count": 4,
   "id": "0d90cb34",
   "metadata": {},
   "outputs": [
    {
     "data": {
      "text/plain": [
       "list"
      ]
     },
     "execution_count": 4,
     "metadata": {},
     "output_type": "execute_result"
    }
   ],
   "source": [
    "type(lst_num)"
   ]
  },
  {
   "cell_type": "code",
   "execution_count": 5,
   "id": "34197b30",
   "metadata": {},
   "outputs": [
    {
     "data": {
      "text/plain": [
       "2"
      ]
     },
     "execution_count": 5,
     "metadata": {},
     "output_type": "execute_result"
    }
   ],
   "source": [
    "lst_num.count(10)"
   ]
  },
  {
   "cell_type": "code",
   "execution_count": 7,
   "id": "2b1b2f0e",
   "metadata": {},
   "outputs": [
    {
     "name": "stdout",
     "output_type": "stream",
     "text": [
      "<class 'int'>\n",
      "<class 'list'>\n",
      "<class 'tuple'>\n",
      "<class 'dict'>\n",
      "<class 'str'>\n"
     ]
    }
   ],
   "source": [
    "# Type para verificar o tipo de um objeto\n",
    "print(type(10))\n",
    "print(type([]))\n",
    "print(type(()))\n",
    "print(type({}))\n",
    "print(type('a'))"
   ]
  },
  {
   "cell_type": "code",
   "execution_count": 8,
   "id": "53d671f3",
   "metadata": {},
   "outputs": [
    {
     "name": "stdout",
     "output_type": "stream",
     "text": [
      "<class '__main__.Carro'>\n"
     ]
    }
   ],
   "source": [
    "# Criando um novo tipo de objeto chamado Carro\n",
    "class Carro (object):\n",
    "    pass\n",
    "# Instância do Carro\n",
    "palio = Carro()\n",
    "\n",
    "print(type(palio))\n"
   ]
  },
  {
   "cell_type": "code",
   "execution_count": 10,
   "id": "1be9d13b",
   "metadata": {},
   "outputs": [],
   "source": [
    "# Criando uma classe\n",
    "class Estudantes:\n",
    "    def __init__(self, nome, idade, nota):\n",
    "        self.nome = nome \n",
    "        self.idade = idade\n",
    "        self.nota = nota"
   ]
  },
  {
   "cell_type": "code",
   "execution_count": 11,
   "id": "bf05474a",
   "metadata": {},
   "outputs": [],
   "source": [
    "Estudante1 = Estudantes('Pelé', 12, 9.5)"
   ]
  },
  {
   "cell_type": "code",
   "execution_count": 12,
   "id": "c321842a",
   "metadata": {},
   "outputs": [
    {
     "data": {
      "text/plain": [
       "12"
      ]
     },
     "execution_count": 12,
     "metadata": {},
     "output_type": "execute_result"
    }
   ],
   "source": [
    "Estudante1.idade"
   ]
  },
  {
   "cell_type": "code",
   "execution_count": 13,
   "id": "bba1d65f",
   "metadata": {},
   "outputs": [
    {
     "data": {
      "text/plain": [
       "'Pelé'"
      ]
     },
     "execution_count": 13,
     "metadata": {},
     "output_type": "execute_result"
    }
   ],
   "source": [
    "Estudante1.nome"
   ]
  },
  {
   "cell_type": "code",
   "execution_count": 14,
   "id": "50c0b7fb",
   "metadata": {},
   "outputs": [
    {
     "data": {
      "text/plain": [
       "9.5"
      ]
     },
     "execution_count": 14,
     "metadata": {},
     "output_type": "execute_result"
    }
   ],
   "source": [
    "Estudante1.nota"
   ]
  },
  {
   "cell_type": "code",
   "execution_count": 23,
   "id": "36e1d396",
   "metadata": {},
   "outputs": [],
   "source": [
    "# Criando uma classe\n",
    "class Funcionarios:\n",
    "    def __init__(self, nome, salario):\n",
    "        self.nome = nome\n",
    "        self.salario = salario\n",
    "    def listFunc(self):\n",
    "        print('O nome do funcionário é ' + self.nome + 'e o seu  salário é R$: ' + str(self.salario))"
   ]
  },
  {
   "cell_type": "code",
   "execution_count": 24,
   "id": "c339a867",
   "metadata": {},
   "outputs": [],
   "source": [
    "Func1 = Funcionarios('Arnaldo', '20000')"
   ]
  },
  {
   "cell_type": "code",
   "execution_count": 25,
   "id": "26498f54",
   "metadata": {},
   "outputs": [
    {
     "name": "stdout",
     "output_type": "stream",
     "text": [
      "O nome do funcionário é Arnaldoe o seu  salário é R$: 20000\n"
     ]
    }
   ],
   "source": [
    "Func1.listFunc()"
   ]
  },
  {
   "cell_type": "code",
   "execution_count": 26,
   "id": "82bef972",
   "metadata": {},
   "outputs": [
    {
     "data": {
      "text/plain": [
       "'Arnaldo'"
      ]
     },
     "execution_count": 26,
     "metadata": {},
     "output_type": "execute_result"
    }
   ],
   "source": [
    "Func1.nome"
   ]
  },
  {
   "cell_type": "code",
   "execution_count": 27,
   "id": "80e2eb3d",
   "metadata": {},
   "outputs": [
    {
     "name": "stdout",
     "output_type": "stream",
     "text": [
      "****** Usando atributos ******\n"
     ]
    }
   ],
   "source": [
    "print('****** Usando atributos ******')"
   ]
  },
  {
   "cell_type": "code",
   "execution_count": 28,
   "id": "f1f58fba",
   "metadata": {},
   "outputs": [
    {
     "data": {
      "text/plain": [
       "True"
      ]
     },
     "execution_count": 28,
     "metadata": {},
     "output_type": "execute_result"
    }
   ],
   "source": [
    "hasattr (Func1, 'nome') # Tem o atributo ___ ???"
   ]
  },
  {
   "cell_type": "code",
   "execution_count": 29,
   "id": "918e9374",
   "metadata": {},
   "outputs": [
    {
     "data": {
      "text/plain": [
       "True"
      ]
     },
     "execution_count": 29,
     "metadata": {},
     "output_type": "execute_result"
    }
   ],
   "source": [
    "hasattr (Func1, 'salario') "
   ]
  },
  {
   "cell_type": "code",
   "execution_count": 30,
   "id": "9ec80c0f",
   "metadata": {},
   "outputs": [],
   "source": [
    "setattr (Func1, 'salario', 4500) # Se tiver o atributo salario muda o seu valor para 4500"
   ]
  },
  {
   "cell_type": "code",
   "execution_count": 31,
   "id": "7e27ad01",
   "metadata": {},
   "outputs": [
    {
     "data": {
      "text/plain": [
       "True"
      ]
     },
     "execution_count": 31,
     "metadata": {},
     "output_type": "execute_result"
    }
   ],
   "source": [
    "hasattr (Func1, 'salario')"
   ]
  },
  {
   "cell_type": "code",
   "execution_count": 32,
   "id": "fb1d6766",
   "metadata": {},
   "outputs": [
    {
     "data": {
      "text/plain": [
       "4500"
      ]
     },
     "execution_count": 32,
     "metadata": {},
     "output_type": "execute_result"
    }
   ],
   "source": [
    "getattr(Func1, 'salario') # Verificando salario"
   ]
  },
  {
   "cell_type": "code",
   "execution_count": 33,
   "id": "976ba865",
   "metadata": {},
   "outputs": [],
   "source": [
    "delattr(Func1, 'salario') # Deletando salario"
   ]
  },
  {
   "cell_type": "code",
   "execution_count": 35,
   "id": "31d7b60e",
   "metadata": {},
   "outputs": [
    {
     "data": {
      "text/plain": [
       "False"
      ]
     },
     "execution_count": 35,
     "metadata": {},
     "output_type": "execute_result"
    }
   ],
   "source": [
    "hasattr(Func1, 'salario') # Salario existe ?"
   ]
  }
 ],
 "metadata": {
  "kernelspec": {
   "display_name": "Python 3",
   "language": "python",
   "name": "python3"
  },
  "language_info": {
   "codemirror_mode": {
    "name": "ipython",
    "version": 3
   },
   "file_extension": ".py",
   "mimetype": "text/x-python",
   "name": "python",
   "nbconvert_exporter": "python",
   "pygments_lexer": "ipython3",
   "version": "3.8.8"
  }
 },
 "nbformat": 4,
 "nbformat_minor": 5
}
