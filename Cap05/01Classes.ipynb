{
 "cells": [
  {
   "cell_type": "markdown",
   "id": "300cc6f9",
   "metadata": {},
   "source": [
    "# Classes"
   ]
  },
  {
   "cell_type": "code",
   "execution_count": 1,
   "id": "1d0a9cf5",
   "metadata": {},
   "outputs": [],
   "source": [
    "# Criando um classe chamada livro\n",
    "class Livro():\n",
    "    def __init__(self):\n",
    "        # Atributos de cada objeto criados a partir desta classe\n",
    "        # Self indica que esse são os atributos dos objetos\n",
    "        self.titulo = 'O Monge e o Executivo'\n",
    "        self.isbn = 998888\n",
    "        print('Construtor chamado para criar um objeto desta classe')\n",
    "    def imprime(self):\n",
    "        print('Foi criado o livro %s e ISBN %d' %(self.titulo, self.isbn))"
   ]
  },
  {
   "cell_type": "code",
   "execution_count": 2,
   "id": "7c4ec6ac",
   "metadata": {},
   "outputs": [
    {
     "name": "stdout",
     "output_type": "stream",
     "text": [
      "Construtor chamado para criar um objeto desta classe\n"
     ]
    }
   ],
   "source": [
    "Livro1 = Livro()"
   ]
  },
  {
   "cell_type": "code",
   "execution_count": 3,
   "id": "0d5a7e5c",
   "metadata": {},
   "outputs": [
    {
     "data": {
      "text/plain": [
       "__main__.Livro"
      ]
     },
     "execution_count": 3,
     "metadata": {},
     "output_type": "execute_result"
    }
   ],
   "source": [
    "type(Livro1)"
   ]
  },
  {
   "cell_type": "code",
   "execution_count": 4,
   "id": "da1a618a",
   "metadata": {},
   "outputs": [
    {
     "data": {
      "text/plain": [
       "'O Monge e o Executivo'"
      ]
     },
     "execution_count": 4,
     "metadata": {},
     "output_type": "execute_result"
    }
   ],
   "source": [
    "Livro1.titulo"
   ]
  },
  {
   "cell_type": "code",
   "execution_count": 6,
   "id": "00641b53",
   "metadata": {},
   "outputs": [
    {
     "name": "stdout",
     "output_type": "stream",
     "text": [
      "Foi criado o livro O Monge e o Executivo e ISBN 998888\n"
     ]
    }
   ],
   "source": [
    "Livro1.imprime()"
   ]
  },
  {
   "cell_type": "code",
   "execution_count": 7,
   "id": "b785f592",
   "metadata": {},
   "outputs": [],
   "source": [
    "# Criando a classe Livro com os parâmetros no método construtor\n",
    "class Livro():\n",
    "    def __init__(self,titulo,isbn):\n",
    "        self.titulo = titulo\n",
    "        self.isbn = isbn\n",
    "        print('Construtor chamado para criar um objeto desta classe')\n",
    "    \n",
    "    def imprime(self,titulo,isbn):\n",
    "        print('Este é o livro %s e ISBN %d' %(titulo, isbn))"
   ]
  },
  {
   "cell_type": "code",
   "execution_count": 8,
   "id": "08128344",
   "metadata": {},
   "outputs": [
    {
     "name": "stdout",
     "output_type": "stream",
     "text": [
      "Construtor chamado para criar um objeto desta classe\n"
     ]
    }
   ],
   "source": [
    "# Criando o objeto Livro2 que é instância de classe Livro\n",
    "Livro2 = Livro('A menina que roubava livros', 77886611)"
   ]
  },
  {
   "cell_type": "code",
   "execution_count": 9,
   "id": "0eedc7b2",
   "metadata": {},
   "outputs": [
    {
     "data": {
      "text/plain": [
       "'A menina que roubava livros'"
      ]
     },
     "execution_count": 9,
     "metadata": {},
     "output_type": "execute_result"
    }
   ],
   "source": [
    "Livro2.titulo"
   ]
  },
  {
   "cell_type": "code",
   "execution_count": 12,
   "id": "265f4194",
   "metadata": {},
   "outputs": [
    {
     "name": "stdout",
     "output_type": "stream",
     "text": [
      "Este é o livro A menina que roubava livros e ISBN 77886611\n"
     ]
    }
   ],
   "source": [
    "Livro2.imprime('A menina que roubava livros', 77886611)"
   ]
  },
  {
   "cell_type": "code",
   "execution_count": 16,
   "id": "da1ab01d",
   "metadata": {},
   "outputs": [],
   "source": [
    "# Criando a classe Cachorro\n",
    "class Cachorro():\n",
    "    def __init__(self, raca):\n",
    "        self.raca = raca\n",
    "        print('Construtor chamado para criar um objeto desta classe')   "
   ]
  },
  {
   "cell_type": "code",
   "execution_count": 18,
   "id": "5e4987bd",
   "metadata": {},
   "outputs": [
    {
     "name": "stdout",
     "output_type": "stream",
     "text": [
      "Construtor chamado para criar um objeto desta classe\n"
     ]
    }
   ],
   "source": [
    "Rex = Cachorro(raca = 'Labrador')"
   ]
  },
  {
   "cell_type": "code",
   "execution_count": 19,
   "id": "554161c6",
   "metadata": {},
   "outputs": [
    {
     "data": {
      "text/plain": [
       "'Labrador'"
      ]
     },
     "execution_count": 19,
     "metadata": {},
     "output_type": "execute_result"
    }
   ],
   "source": [
    "Rex.raca"
   ]
  },
  {
   "cell_type": "code",
   "execution_count": 20,
   "id": "4df637c5",
   "metadata": {},
   "outputs": [
    {
     "name": "stdout",
     "output_type": "stream",
     "text": [
      "Construtor chamado para criar um objeto desta classe\n"
     ]
    }
   ],
   "source": [
    "Duke = Cachorro (raca = 'Pé Duro')"
   ]
  },
  {
   "cell_type": "code",
   "execution_count": 21,
   "id": "c7878e11",
   "metadata": {},
   "outputs": [
    {
     "data": {
      "text/plain": [
       "'Pé Duro'"
      ]
     },
     "execution_count": 21,
     "metadata": {},
     "output_type": "execute_result"
    }
   ],
   "source": [
    "Duke.raca"
   ]
  },
  {
   "cell_type": "code",
   "execution_count": null,
   "id": "a57b6e78",
   "metadata": {},
   "outputs": [],
   "source": []
  }
 ],
 "metadata": {
  "kernelspec": {
   "display_name": "Python 3",
   "language": "python",
   "name": "python3"
  },
  "language_info": {
   "codemirror_mode": {
    "name": "ipython",
    "version": 3
   },
   "file_extension": ".py",
   "mimetype": "text/x-python",
   "name": "python",
   "nbconvert_exporter": "python",
   "pygments_lexer": "ipython3",
   "version": "3.8.8"
  }
 },
 "nbformat": 4,
 "nbformat_minor": 5
}
