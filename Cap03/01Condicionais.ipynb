{
 "cells": [
  {
   "cell_type": "markdown",
   "metadata": {},
   "source": [
    "# Condicionais"
   ]
  },
  {
   "cell_type": "code",
   "execution_count": null,
   "metadata": {},
   "outputs": [],
   "source": [
    "# Condiconal if, (se)\n",
    "if 5>2:\n",
    "    print('Python é legal')"
   ]
  },
  {
   "cell_type": "code",
   "execution_count": null,
   "metadata": {},
   "outputs": [],
   "source": [
    "#Uso do else, ( se não)\n",
    "if 5<2:\n",
    "    print('Python é legal')\n",
    "else:\n",
    "    print('Errrrou')"
   ]
  },
  {
   "cell_type": "code",
   "execution_count": null,
   "metadata": {},
   "outputs": [],
   "source": [
    "if 10==10:\n",
    "    print('É mesmo oh!')"
   ]
  },
  {
   "cell_type": "code",
   "execution_count": null,
   "metadata": {},
   "outputs": [],
   "source": [
    "if True:\n",
    "    print('Python é inteligente!')\n",
    "#Condicionais devem terminar em dois pontos(:) e serem identada"
   ]
  },
  {
   "cell_type": "markdown",
   "metadata": {},
   "source": [
    "### Condicionais aninhados "
   ]
  },
  {
   "cell_type": "code",
   "execution_count": null,
   "metadata": {},
   "outputs": [],
   "source": [
    "idade = 18\n",
    "if idade >17:\n",
    "    print('Pode dirigir')"
   ]
  },
  {
   "cell_type": "code",
   "execution_count": 6,
   "metadata": {},
   "outputs": [
    {
     "name": "stdout",
     "output_type": "stream",
     "text": [
      "Pode entrar na festa\n"
     ]
    }
   ],
   "source": [
    "Nome = 'Disa'\n",
    "if idade > 13:\n",
    "    if Nome == 'Disa':\n",
    "        print('Pode entrar na festa')\n",
    "    else:\n",
    "        print('Não pode entrar na festa')"
   ]
  },
  {
   "cell_type": "code",
   "execution_count": 7,
   "metadata": {},
   "outputs": [
    {
     "name": "stdout",
     "output_type": "stream",
     "text": [
      "Tô aprendendo python\n"
     ]
    }
   ],
   "source": [
    "idade2 = 14\n",
    "nome2 = 'Pereira'\n",
    "if idade2 >= 12 and nome2 == 'Pereira':\n",
    "    print('Tô aprendendo python')\n",
    "else:\n",
    "    print('É mesmo oh')"
   ]
  },
  {
   "cell_type": "code",
   "execution_count": 8,
   "metadata": {},
   "outputs": [
    {
     "name": "stdout",
     "output_type": "stream",
     "text": [
      "As mina pira\n"
     ]
    }
   ],
   "source": [
    "if (idade2 >= 16) or (nome2 == 'Pereira'): #Não é obrigatório o uso de parenteses, é apenas para organização e legibilidade !!!\n",
    "    print('As mina pira')\n",
    "    "
   ]
  },
  {
   "cell_type": "markdown",
   "metadata": {},
   "source": [
    "### Elif"
   ]
  },
  {
   "cell_type": "code",
   "execution_count": 9,
   "metadata": {},
   "outputs": [
    {
     "name": "stdout",
     "output_type": "stream",
     "text": [
      "Bolo na cara\n"
     ]
    }
   ],
   "source": [
    "porta = 'Dona Florinda'\n",
    "if porta == 'Dona Florinda':\n",
    "   print('Bolo na cara')\n",
    "elif porta == 'Bruxa do 71':\n",
    "    print('Não estou')\n",
    "else:\n",
    "    print('Pode entrar')"
   ]
  },
  {
   "cell_type": "code",
   "execution_count": 10,
   "metadata": {},
   "outputs": [
    {
     "name": "stdout",
     "output_type": "stream",
     "text": [
      "Não estou\n"
     ]
    }
   ],
   "source": [
    "porta = 'Bruxa do 71'\n",
    "if porta == 'Dona Florinda':\n",
    "   print('Bolo na cara')\n",
    "elif porta == 'Bruxa do 71':\n",
    "    print('Não estou')\n",
    "else:\n",
    "    print('Pode entrar')"
   ]
  },
  {
   "cell_type": "markdown",
   "metadata": {},
   "source": [
    "### Operadores lógicos"
   ]
  },
  {
   "cell_type": "code",
   "execution_count": 11,
   "metadata": {},
   "outputs": [
    {
     "name": "stdout",
     "output_type": "stream",
     "text": [
      "Pode dirigir\n"
     ]
    }
   ],
   "source": [
    "idade = 18\n",
    "nome = 'Xeila'\n",
    "if idade >= 18 and nome == 'Xeila':\n",
    "    print('Pode dirigir')"
   ]
  },
  {
   "cell_type": "code",
   "execution_count": null,
   "metadata": {},
   "outputs": [],
   "source": [
    "# Usando mais de uma condição na cláusula if\n",
    "anonascimento = input ('Digite o ano de nascimento: ')\n",
    "mesnascimento = input ('Digite o mês do nascimento: ')\n",
    "dianascimento = input ('Digite o dia do nascimento: ')\n",
    "if anonascimento ='2003' and mesnascimento ='4' and dianascimento ='28':\n",
    "    print('Hoje é seu aniversário de 18 anos!')\n",
    "else:\n",
    "    print('Hoje não é seu aniversário de 18 anos')"
   ]
  },
  {
   "cell_type": "code",
   "execution_count": null,
   "metadata": {},
   "outputs": [],
   "source": [
    "disciplina = input ('Digite a disciplina: ')\n",
    "nota1 = input ('Digite a nota da primeira prova: ')\n",
    "nota2 = input ('Digite a nota da segunda prova: ')\n",
    "if disciplina == 'Calculo' and int(nota1 + nota2)/2 >= 5:\n",
    "    print('Aprovado')\n",
    "elif int(nota1+nota2)/2 <=5:\n",
    "    print('Reprovado')\n",
    "else:\n",
    "    print('Disciplina indisponível no sistema')"
   ]
  }
 ],
 "metadata": {
  "kernelspec": {
   "display_name": "Python 3",
   "language": "python",
   "name": "python3"
  },
  "language_info": {
   "codemirror_mode": {
    "name": "ipython",
    "version": 3
   },
   "file_extension": ".py",
   "mimetype": "text/x-python",
   "name": "python",
   "nbconvert_exporter": "python",
   "pygments_lexer": "ipython3",
   "version": "3.8.3"
  }
 },
 "nbformat": 4,
 "nbformat_minor": 4
}
