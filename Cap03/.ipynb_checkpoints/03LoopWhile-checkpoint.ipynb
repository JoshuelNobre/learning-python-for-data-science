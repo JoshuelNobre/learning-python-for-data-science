{
 "cells": [
  {
   "cell_type": "markdown",
   "metadata": {},
   "source": [
    "# While"
   ]
  },
  {
   "cell_type": "code",
   "execution_count": 2,
   "metadata": {},
   "outputs": [
    {
     "name": "stdout",
     "output_type": "stream",
     "text": [
      "0\n",
      "1\n",
      "2\n",
      "3\n",
      "4\n",
      "5\n",
      "6\n",
      "7\n",
      "8\n",
      "9\n"
     ]
    }
   ],
   "source": [
    "#Enquanto a condição for verdadeira, imprimo na tela\n",
    "counter = 0\n",
    "while counter <10:\n",
    "    print(counter)\n",
    "    counter = counter + 1"
   ]
  },
  {
   "cell_type": "code",
   "execution_count": 4,
   "metadata": {},
   "outputs": [
    {
     "name": "stdout",
     "output_type": "stream",
     "text": [
      "Estou processando\n",
      "Aguarde\n",
      "Estou processando\n",
      "Aguarde\n",
      "Estou processando\n",
      "Aguarde\n",
      "Estou processando\n",
      "Aguarde\n",
      "Estou processando\n",
      "Aguarde\n",
      "Estou processando\n",
      "Aguarde\n",
      "Estou processando\n",
      "Aguarde\n",
      "Estou processando\n",
      "Aguarde\n",
      "Estou processando\n",
      "Aguarde\n",
      "Estou processando\n",
      "Aguarde\n",
      "Processado com sucesso\n"
     ]
    }
   ],
   "source": [
    "#É possível usar uma cláusula para encerrar o while\n",
    "x = 0\n",
    "while x<10: # enquanto a condição for verdadeira executa isso >\n",
    "    print('Estou processando')\n",
    "    print('Aguarde')\n",
    "    x += 1\n",
    "else: #Se não, execute isso\n",
    "    print('Processado com sucesso')"
   ]
  },
  {
   "cell_type": "markdown",
   "metadata": {},
   "source": [
    "### Pass,Break e Continue"
   ]
  },
  {
   "cell_type": "code",
   "execution_count": 6,
   "metadata": {},
   "outputs": [
    {
     "name": "stdout",
     "output_type": "stream",
     "text": [
      "0\n",
      "1\n",
      "2\n",
      "3\n"
     ]
    }
   ],
   "source": [
    "contador = 0\n",
    "while contador < 100:\n",
    "    if contador == 4:\n",
    "        break\n",
    "    else:\n",
    "        pass\n",
    "    print(contador)\n",
    "    contador += 1"
   ]
  },
  {
   "cell_type": "code",
   "execution_count": 7,
   "metadata": {},
   "outputs": [
    {
     "name": "stdout",
     "output_type": "stream",
     "text": [
      "B\n",
      "n\n",
      "n\n"
     ]
    }
   ],
   "source": [
    "for verificar in 'Banana':\n",
    "    if verificar == 'a':\n",
    "        continue\n",
    "    print(verificar)"
   ]
  },
  {
   "cell_type": "markdown",
   "metadata": {},
   "source": [
    "### While e for juntos"
   ]
  },
  {
   "cell_type": "code",
   "execution_count": 10,
   "metadata": {},
   "outputs": [
    {
     "name": "stdout",
     "output_type": "stream",
     "text": [
      "2 é um número primo\n",
      "3 é um número primo\n",
      "5 é um número primo\n",
      "7 é um número primo\n",
      "11 é um número primo\n",
      "13 é um número primo\n",
      "17 é um número primo\n",
      "19 é um número primo\n",
      "23 é um número primo\n",
      "29 é um número primo\n"
     ]
    }
   ],
   "source": [
    "for i in range (2,30):\n",
    "    j=2\n",
    "    counter = 0\n",
    "    while j<i:\n",
    "        if i % j == 0:\n",
    "            counter=1\n",
    "            j=j+1\n",
    "        else:\n",
    "            j=j+1\n",
    "    if counter == 0:\n",
    "        print(str(i)+ ' é um número primo') # Tenho que converter i em string para concatenar\n",
    "        counter = 0\n",
    "    else:\n",
    "        counter = 0"
   ]
  },
  {
   "cell_type": "code",
   "execution_count": null,
   "metadata": {},
   "outputs": [],
   "source": []
  }
 ],
 "metadata": {
  "kernelspec": {
   "display_name": "Python 3",
   "language": "python",
   "name": "python3"
  },
  "language_info": {
   "codemirror_mode": {
    "name": "ipython",
    "version": 3
   },
   "file_extension": ".py",
   "mimetype": "text/x-python",
   "name": "python",
   "nbconvert_exporter": "python",
   "pygments_lexer": "ipython3",
   "version": "3.8.3"
  }
 },
 "nbformat": 4,
 "nbformat_minor": 4
}
